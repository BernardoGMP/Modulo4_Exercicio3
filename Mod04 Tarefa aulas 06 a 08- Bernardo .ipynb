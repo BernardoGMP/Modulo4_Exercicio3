{
 "cells": [
  {
   "cell_type": "markdown",
   "metadata": {},
   "source": [
    "# Tarefa 03\n",
    "\n",
    "- Leia os enunciados com atenção\n",
    "- Saiba que pode haver mais de uma resposta correta\n",
    "- Insira novas células de código sempre que achar necessário\n",
    "- Em caso de dúvidas, procure os Tutores\n",
    "- Divirta-se :)"
   ]
  },
  {
   "cell_type": "code",
   "execution_count": 1,
   "metadata": {},
   "outputs": [],
   "source": [
    "import pandas as pd\n",
    "import requests"
   ]
  },
  {
   "cell_type": "markdown",
   "metadata": {},
   "source": [
    "####  1) Lendo de APIs\n",
    "Vimos em aula como carregar dados públicos do governo através de um API (*Application Programming Interface*). No exemplo de aula, baixamos os dados de pedidos de verificação de limites (PVL) realizados por estados, e selecionamos apenas aqueles referentes ao estado de São Paulo.\n",
    "\n",
    "1. Repita os mesmos passos feitos em aula, mas selecione os PVLs realizados por municípios no estado do Rio de Janeiro.\n",
    "2. Quais são os três *status* das solicitações mais frequentes na base? Quais são suas frequências?\n",
    "3. Construa uma nova variável que contenha o ano do **status**. Observe que ```data_status``` vem como tipo *object* no **DataFrame**. Dica: você pode usar o método ```.str``` para transformar o tipo da variável em string, em seguida um método como [**slice()**](https://pandas.pydata.org/docs/reference/api/pandas.Series.str.slice.html) ou [**split()**](https://pandas.pydata.org/pandas-docs/stable/reference/api/pandas.Series.str.split.html).\n",
    "4. Indique a frequência de cada ano do campo construído no item (3)."
   ]
  },
  {
   "cell_type": "code",
   "execution_count": 2,
   "metadata": {},
   "outputs": [],
   "source": [
    "# 1) Repita os mesmos passos feitos em aula, mas selecione os PVLs realizados por municípios no estado do Rio de Janeiro.\n",
    "\n",
    "# Definindo a URL filtrada pelo RJ\n",
    "url = 'https://apidatalake.tesouro.gov.br/ords/sadipem/tt/pvl?uf=RJ&tipo_interessado=Munic%C3%ADpio'\n",
    "\n",
    "#Convertendo em json\n",
    "data_json = requests.get(url).json()\n",
    "\n",
    "#Transformando em df\n",
    "df = pd.DataFrame(data_json['items'])"
   ]
  },
  {
   "cell_type": "code",
   "execution_count": 3,
   "metadata": {},
   "outputs": [
    {
     "data": {
      "text/plain": [
       "status\n",
       "Deferido        105\n",
       "Arquivado        53\n",
       "Regularizado     26\n",
       "Name: count, dtype: int64"
      ]
     },
     "execution_count": 3,
     "metadata": {},
     "output_type": "execute_result"
    }
   ],
   "source": [
    "# 2) Quais são os três status das solicitações mais frequentes na base? Quais são suas frequências?\n",
    "df.status.value_counts().head(3)"
   ]
  },
  {
   "cell_type": "code",
   "execution_count": 4,
   "metadata": {},
   "outputs": [],
   "source": [
    "# 3) Construa uma nova variável que contenha o ano do status. Observe que data_status vem como tipo object no DataFrame. \n",
    "# Dica: você pode usar o método .str para transformar o tipo da variável em string, em seguida um método como slice() ou split().\n",
    "\n",
    "df['ano_protocol'] = df['data_protocolo'].astype(str).str.slice(0, 4)"
   ]
  },
  {
   "cell_type": "code",
   "execution_count": 5,
   "metadata": {},
   "outputs": [
    {
     "data": {
      "text/plain": [
       "ano_protocol\n",
       "2008    40\n",
       "None    25\n",
       "2007    25\n",
       "2014    23\n",
       "2023    19\n",
       "2010    18\n",
       "2012    15\n",
       "2011    13\n",
       "2020    12\n",
       "2013    12\n",
       "2022     9\n",
       "2009     7\n",
       "2006     7\n",
       "2018     7\n",
       "2002     5\n",
       "2016     4\n",
       "2019     4\n",
       "2017     4\n",
       "2021     4\n",
       "2015     3\n",
       "2005     2\n",
       "2004     1\n",
       "Name: count, dtype: int64"
      ]
     },
     "execution_count": 5,
     "metadata": {},
     "output_type": "execute_result"
    }
   ],
   "source": [
    "# 4. Indique a frequência de cada ano do campo construído no item (3).\n",
    "df.ano_protocol.value_counts()"
   ]
  },
  {
   "cell_type": "markdown",
   "metadata": {},
   "source": [
    "####  2) Melhorando a interação com o API\n",
    "Observe dois URLs de consultas diferentes, por exemplo o URL utilizado em aula, e o URL feito no exercício anterior. Compare-os e observe as diferenças.\n",
    "\n",
    "1. Faça uma função em Python que recebe como argumento o UF da consulta e o tipo de interessado (```'Estado'```ou ```Município```), e que devolve os dados da consulta no formato *DataFrame*.\n",
    "2. Quantas solicitações para o Estado podem ser consultadas para Minas Gerais com *status* em 'Arquivado por decurso de prazo' estão registradas?\n",
    "3. Qual é o município da Bahia com mais solicitações deferidas?\n",
    "4. Salve um arquivo .csv com os dados de solicitações da Bahia, com interessado = 'Estado'"
   ]
  },
  {
   "cell_type": "code",
   "execution_count": 6,
   "metadata": {},
   "outputs": [],
   "source": [
    "# 1) Faça uma função em Python que recebe como argumento o UF da consulta e o tipo de interessado ('Estado'ou Município), \n",
    "# e que devolve os dados da consulta no formato DataFrame.\n",
    "\n",
    "def consulta_estado(uf,interesse='estado'):\n",
    "    if interesse == 'estado':\n",
    "        url = 'https://apidatalake.tesouro.gov.br/ords/sadipem/tt/pvl?uf='+uf+'&tipo_interessado=Estado'\n",
    "    elif interesse == 'municipio':\n",
    "        url = 'https://apidatalake.tesouro.gov.br/ords/sadipem/tt/pvl?uf='+uf+'&tipo_interessado=Munic%C3%ADpio'\n",
    "    data_json = requests.get(url).json()\n",
    "    df = pd.DataFrame(data_json['items'])\n",
    "    return df"
   ]
  },
  {
   "cell_type": "code",
   "execution_count": 7,
   "metadata": {},
   "outputs": [
    {
     "data": {
      "text/plain": [
       "1"
      ]
     },
     "execution_count": 7,
     "metadata": {},
     "output_type": "execute_result"
    }
   ],
   "source": [
    "# 2) Quantas solicitações para o Estado podem ser consultadas para Minas Gerais com status em 'Arquivado por decurso de prazo' estão registradas?\n",
    "(consulta_estado('MG','estado').status == 'Arquivado por decurso de prazo').sum()"
   ]
  },
  {
   "cell_type": "code",
   "execution_count": 8,
   "metadata": {},
   "outputs": [
    {
     "data": {
      "text/plain": [
       "'Luís Eduardo Magalhães'"
      ]
     },
     "execution_count": 8,
     "metadata": {},
     "output_type": "execute_result"
    }
   ],
   "source": [
    "# 3) Qual é o município da Bahia com mais solicitações deferidas?\n",
    "consulta_estado('BA','municipio')[consulta_estado('BA','municipio')['status'] =='Deferido'].interessado.value_counts().idxmax()"
   ]
  },
  {
   "cell_type": "code",
   "execution_count": 9,
   "metadata": {},
   "outputs": [],
   "source": [
    "# 4) Salve um arquivo .csv com os dados de solicitações da Bahia, com interessado = 'Estado'\n",
    "consulta_estado('BA','estado').to_csv('consulta_BA_estado.csv')"
   ]
  }
 ],
 "metadata": {
  "kernelspec": {
   "display_name": "Python 3 (ipykernel)",
   "language": "python",
   "name": "python3"
  },
  "language_info": {
   "codemirror_mode": {
    "name": "ipython",
    "version": 3
   },
   "file_extension": ".py",
   "mimetype": "text/x-python",
   "name": "python",
   "nbconvert_exporter": "python",
   "pygments_lexer": "ipython3",
   "version": "3.11.5"
  }
 },
 "nbformat": 4,
 "nbformat_minor": 4
}
